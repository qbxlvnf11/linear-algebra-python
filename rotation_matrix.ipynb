{
 "cells": [
  {
   "cell_type": "code",
   "execution_count": 1,
   "id": "f83bf912",
   "metadata": {},
   "outputs": [],
   "source": [
    "# Ref: https://gist.github.com/james-roden/1164dea26b817ac5d5b3096621a7637b\n",
    "\n",
    "import math\n",
    "\n",
    "def rotate_matrix(x, y, angle, x_shift=0, y_shift=0, units=\"DEGREES\"):\n",
    "    \"\"\"\n",
    "    Rotates a point in the xy-plane counterclockwise through an angle about the origin\n",
    "    https://en.wikipedia.org/wiki/Rotation_matrix\n",
    "    :param x: x coordinate\n",
    "    :param y: y coordinate\n",
    "    :param x_shift: x-axis shift from origin (0, 0)\n",
    "    :param y_shift: y-axis shift from origin (0, 0)\n",
    "    :param angle: The rotation angle in degrees\n",
    "    :param units: DEGREES (default) or RADIANS\n",
    "    :return: Tuple of rotated x and y\n",
    "    \"\"\"\n",
    "\n",
    "    # Shift to origin (0,0)\n",
    "    x = x - x_shift\n",
    "    y = y - y_shift\n",
    "\n",
    "    # Convert degrees to radians\n",
    "    if units == \"DEGREES\":\n",
    "        angle = math.radians(angle)\n",
    "\n",
    "    # Rotation matrix multiplication to get rotated x & y\n",
    "    xr = (x * math.cos(angle)) - (y * math.sin(angle)) + x_shift\n",
    "    yr = (x * math.sin(angle)) + (y * math.cos(angle)) + y_shift\n",
    "\n",
    "    return xr, yr"
   ]
  },
  {
   "cell_type": "code",
   "execution_count": 2,
   "id": "fd74e4d1",
   "metadata": {},
   "outputs": [],
   "source": [
    "point = (100, 100) # x, y"
   ]
  },
  {
   "cell_type": "code",
   "execution_count": 3,
   "id": "c1f0e79c",
   "metadata": {},
   "outputs": [
    {
     "data": {
      "text/plain": [
       "(-100.0, 100.0)"
      ]
     },
     "execution_count": 3,
     "metadata": {},
     "output_type": "execute_result"
    }
   ],
   "source": [
    "rotate_matrix(point[0], point[1], angle = 90)"
   ]
  },
  {
   "cell_type": "code",
   "execution_count": 4,
   "id": "8ec60e01",
   "metadata": {},
   "outputs": [
    {
     "data": {
      "text/plain": [
       "(-100.00000000000001, -99.99999999999999)"
      ]
     },
     "execution_count": 4,
     "metadata": {},
     "output_type": "execute_result"
    }
   ],
   "source": [
    "rotate_matrix(point[0], point[1], angle = 180)"
   ]
  },
  {
   "cell_type": "code",
   "execution_count": 5,
   "id": "bc452a11",
   "metadata": {},
   "outputs": [
    {
     "data": {
      "text/plain": [
       "(99.99999999999999, -100.00000000000001)"
      ]
     },
     "execution_count": 5,
     "metadata": {},
     "output_type": "execute_result"
    }
   ],
   "source": [
    "rotate_matrix(point[0], point[1], angle = 270)"
   ]
  },
  {
   "cell_type": "code",
   "execution_count": 6,
   "id": "746ad384",
   "metadata": {},
   "outputs": [
    {
     "data": {
      "text/plain": [
       "(100.00000000000003, 99.99999999999997)"
      ]
     },
     "execution_count": 6,
     "metadata": {},
     "output_type": "execute_result"
    }
   ],
   "source": [
    "rotate_matrix(point[0], point[1], angle = 360)"
   ]
  },
  {
   "cell_type": "code",
   "execution_count": 7,
   "id": "6539315d",
   "metadata": {},
   "outputs": [
    {
     "data": {
      "text/plain": [
       "(1.4210854715202004e-14, 141.4213562373095)"
      ]
     },
     "execution_count": 7,
     "metadata": {},
     "output_type": "execute_result"
    }
   ],
   "source": [
    "rotate_matrix(point[0], point[1], angle = 45)"
   ]
  },
  {
   "cell_type": "code",
   "execution_count": 8,
   "id": "402cedd4",
   "metadata": {},
   "outputs": [
    {
     "data": {
      "text/plain": [
       "(100.0, 100.0)"
      ]
     },
     "execution_count": 8,
     "metadata": {},
     "output_type": "execute_result"
    }
   ],
   "source": [
    "rotate_matrix(point[0], point[1], angle = 0)"
   ]
  },
  {
   "cell_type": "code",
   "execution_count": 9,
   "id": "ba746151",
   "metadata": {},
   "outputs": [
    {
     "data": {
      "text/plain": [
       "(100.0, -100.0)"
      ]
     },
     "execution_count": 9,
     "metadata": {},
     "output_type": "execute_result"
    }
   ],
   "source": [
    "rotate_matrix(point[0], point[1], angle = -90)"
   ]
  },
  {
   "cell_type": "code",
   "execution_count": 10,
   "id": "3cd18d15",
   "metadata": {},
   "outputs": [
    {
     "data": {
      "text/plain": [
       "(-50.0, 50.00000000000001)"
      ]
     },
     "execution_count": 10,
     "metadata": {},
     "output_type": "execute_result"
    }
   ],
   "source": [
    "rotate_matrix(point[0], point[1], angle = 90, x_shift = 50)"
   ]
  },
  {
   "cell_type": "code",
   "execution_count": 11,
   "id": "e2cdd115",
   "metadata": {},
   "outputs": [
    {
     "data": {
      "text/plain": [
       "(-49.99999999999999, 150.0)"
      ]
     },
     "execution_count": 11,
     "metadata": {},
     "output_type": "execute_result"
    }
   ],
   "source": [
    "rotate_matrix(point[0], point[1], angle = 90, y_shift = 50)"
   ]
  },
  {
   "cell_type": "code",
   "execution_count": 12,
   "id": "066e4de6",
   "metadata": {},
   "outputs": [
    {
     "data": {
      "text/plain": [
       "(0.0, 100.0)"
      ]
     },
     "execution_count": 12,
     "metadata": {},
     "output_type": "execute_result"
    }
   ],
   "source": [
    "rotate_matrix(point[0], point[1], angle = 90, x_shift = 50,  y_shift = 50)"
   ]
  },
  {
   "cell_type": "code",
   "execution_count": null,
   "id": "f4fd986c",
   "metadata": {},
   "outputs": [],
   "source": [
    "rotate_matrix(point[0], point[1], angle = 90, x_shift = 50)"
   ]
  }
 ],
 "metadata": {
  "kernelspec": {
   "display_name": "Python 3 (ipykernel)",
   "language": "python",
   "name": "python3"
  },
  "language_info": {
   "codemirror_mode": {
    "name": "ipython",
    "version": 3
   },
   "file_extension": ".py",
   "mimetype": "text/x-python",
   "name": "python",
   "nbconvert_exporter": "python",
   "pygments_lexer": "ipython3",
   "version": "3.7.13"
  }
 },
 "nbformat": 4,
 "nbformat_minor": 5
}
